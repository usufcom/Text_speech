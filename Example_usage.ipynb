{
 "cells": [
  {
   "cell_type": "markdown",
   "id": "af10948d",
   "metadata": {},
   "source": [
    "Example usage of text to speek with openAI Text to Speech (TTS) model "
   ]
  },
  {
   "cell_type": "code",
   "execution_count": 3,
   "id": "55b96d89",
   "metadata": {},
   "outputs": [
    {
     "name": "stdout",
     "output_type": "stream",
     "text": [
      "📖 Extracting text from docs\\Understanding text to speech models.pdf ...\n",
      "📑 Splitting text into chapters/sections ...\n",
      "🎙️ Generating audio: docs\\Understanding text to speech models_audiobook\\Understanding text to speech models_0_0_Intro.mp3\n",
      "✅ Audiobook created in folder: docs\\Understanding text to speech models_audiobook\n"
     ]
    }
   ],
   "source": [
    "from PDF2Audio import PDFToAudiobook\n",
    "\n",
    "'''Available Voice styles:\n",
    "alloy (neutral, natural)\n",
    "verse (softer, storytelling)\n",
    "aria (warmer, expressive)\n",
    "sage (calm, thoughtful)\n",
    "lumen (bright, youthful)\n",
    "echo (clear, neutral, slightly robotic)\n",
    "'''\n",
    "# --- Example usage ---\n",
    "pdf_file = r\"docs\\Understanding text to speech models.pdf\"  # Replace with your PDF filename\n",
    "converter = PDFToAudiobook(\n",
    "    chunk_size=1500,  # Tokens per chunk\n",
    "    voice=\"verse\",    # Voice style\n",
    "    instructions=\"Read in a calm and professional audiobook style.\"\n",
    ")\n",
    "converter.convert_pdf(pdf_file)\n"
   ]
  },
  {
   "cell_type": "code",
   "execution_count": null,
   "id": "d5699dc1",
   "metadata": {},
   "outputs": [],
   "source": []
  }
 ],
 "metadata": {
  "kernelspec": {
   "display_name": "base",
   "language": "python",
   "name": "python3"
  },
  "language_info": {
   "codemirror_mode": {
    "name": "ipython",
    "version": 3
   },
   "file_extension": ".py",
   "mimetype": "text/x-python",
   "name": "python",
   "nbconvert_exporter": "python",
   "pygments_lexer": "ipython3",
   "version": "3.9.12"
  }
 },
 "nbformat": 4,
 "nbformat_minor": 5
}
